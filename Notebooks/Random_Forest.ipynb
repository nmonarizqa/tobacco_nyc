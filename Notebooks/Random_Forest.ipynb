{
 "cells": [
  {
   "cell_type": "code",
   "execution_count": 1,
   "metadata": {
    "collapsed": false
   },
   "outputs": [],
   "source": [
    "import pandas as pd\n",
    "import numpy as np\n",
    "from sklearn.ensemble import RandomForestClassifier as RFC\n",
    "from sklearn import linear_model\n",
    "from sklearn.model_selection import train_test_split\n",
    "import matplotlib.pyplot as plt\n",
    "from sklearn import datasets\n",
    "from sklearn.metrics import roc_auc_score as rs\n",
    "from sklearn.metrics import accuracy_score, f1_score, precision_score, recall_score, classification_report, confusion_matrix\n"
   ]
  },
  {
   "cell_type": "code",
   "execution_count": 2,
   "metadata": {
    "collapsed": false
   },
   "outputs": [
    {
     "name": "stdout",
     "output_type": "stream",
     "text": [
      "Index(['Student Achievement Rating', 'type'], dtype='object')\n",
      "   BoroCT2010  n_report  school_distance  n_school  subway_distance  \\\n",
      "0     5000900         0      2826.764130         0        79.859155   \n",
      "1     5000900         0      1703.127328         1       924.970954   \n",
      "2     5000900         0      2929.402252         0      5998.612261   \n",
      "3     5007400         0      1740.529846         0      2489.816362   \n",
      "4     5007400         0       630.587028         0       941.382096   \n",
      "\n",
      "   n_tobacco  Enrollment  Student Achievement Rating  Percent White  \\\n",
      "0          3        1575                           0          0.072   \n",
      "1          3         427                           0          0.009   \n",
      "2          3         589                           0          0.019   \n",
      "3          2         415                           1          0.092   \n",
      "4          2         307                           2          0.003   \n",
      "\n",
      "   Percent Black  Percent Hispanic  Percent Asian  % Female  % Poverty    MHI  \\\n",
      "0          0.056             0.757          0.112  0.377778   0.811429  56192   \n",
      "1          0.260             0.700          0.009  0.674603   1.000000  56192   \n",
      "2          0.649             0.195          0.104  0.463497   0.728353  56192   \n",
      "3          0.424             0.422          0.046  0.508100   0.684831  65559   \n",
      "4          0.863             0.114          0.010  0.387622   0.856678  65559   \n",
      "\n",
      "   Total Population  type   latitude  longitude  class  \n",
      "0              2112     6  40.640561 -74.082207      1  \n",
      "1              2112     1  40.641998 -74.078975      1  \n",
      "2              2112     6  40.640561 -74.082207      1  \n",
      "3              4693     6  40.591647 -74.067662      1  \n",
      "4              4693     6  40.595713 -74.063245      1  \n",
      "(9272, 20)\n",
      "<class 'pandas.core.frame.DataFrame'>\n"
     ]
    }
   ],
   "source": [
    "\n",
    "ctpath = \"C:/Users/Sharon/Desktop/Machine Learning\"\n",
    "# Read CSV into pandas dataframe\n",
    "tobacco = pd.read_csv('New_Classes.csv')\n",
    "\n",
    "tobacco = tobacco.dropna()\n",
    "tobacco['class']=tobacco['class'].astype(int)\n",
    "tobacco['type'] = tobacco['type'].astype('category')\n",
    "tobacco['Student Achievement Rating'] = tobacco['Student Achievement Rating'].astype('category')\n",
    "cat_columns = tobacco.select_dtypes(['category']).columns\n",
    "print(cat_columns)\n",
    "tobacco[cat_columns] = tobacco[cat_columns].apply(lambda x: x.cat.codes)\n",
    "print(tobacco.head())\n",
    "\n",
    "tobacco_df = tobacco\n",
    "print(tobacco.shape)\n",
    "print(type(tobacco))"
   ]
  },
  {
   "cell_type": "code",
   "execution_count": 34,
   "metadata": {
    "collapsed": false
   },
   "outputs": [],
   "source": [
    "\n",
    "tobacco_df = tobacco_df[['school_distance', 'n_school',\n",
    "       'subway_distance', 'n_tobacco', 'Enrollment',\n",
    "       'Student Achievement Rating', 'Percent White', 'Percent Black',\n",
    "       'Percent Hispanic', 'Percent Asian', '% Female', '% Poverty', 'MHI',\n",
    "       'Total Population', 'type', 'latitude', 'longitude']]\n"
   ]
  },
  {
   "cell_type": "code",
   "execution_count": 3,
   "metadata": {
    "collapsed": false,
    "scrolled": true
   },
   "outputs": [
    {
     "name": "stdout",
     "output_type": "stream",
     "text": [
      "[[  2.82676413e+03   0.00000000e+00   7.98591554e+01 ...,   6.00000000e+00\n",
      "    4.06405610e+01  -7.40822074e+01]\n",
      " [  1.70312733e+03   1.00000000e+00   9.24970954e+02 ...,   1.00000000e+00\n",
      "    4.06419983e+01  -7.40789748e+01]\n",
      " [  2.92940225e+03   0.00000000e+00   5.99861226e+03 ...,   6.00000000e+00\n",
      "    4.06405610e+01  -7.40822074e+01]\n",
      " ..., \n",
      " [  2.07573388e+03   0.00000000e+00   1.68049875e+02 ...,   1.00000000e+00\n",
      "    4.06298670e+01  -7.41100869e+01]\n",
      " [  6.68027250e+02   0.00000000e+00   2.08501764e+03 ...,   6.00000000e+00\n",
      "    4.06291833e+01  -7.41139374e+01]\n",
      " [  2.08213877e+03   0.00000000e+00   9.30837987e+02 ...,   6.00000000e+00\n",
      "    4.06317539e+01  -7.41243431e+01]]\n"
     ]
    }
   ],
   "source": [
    "tobacco = np.asarray(tobacco)\n",
    "tobacco = tobacco[:,2:20]\n",
    "\n",
    "X=tobacco[:,0:-1]\n",
    "y=tobacco[:,-1]\n",
    "print(X)"
   ]
  },
  {
   "cell_type": "code",
   "execution_count": 37,
   "metadata": {
    "collapsed": false
   },
   "outputs": [
    {
     "name": "stdout",
     "output_type": "stream",
     "text": [
      "0.835010783609\n",
      "0.837526959022\n",
      "0.838245866283\n",
      "0.838245866283\n",
      "0.838245866283\n",
      "0.838245866283\n",
      "0.838245866283\n",
      "0.838245866283\n",
      "0.838245866283\n",
      "0.838245866283\n",
      "0.838245866283\n",
      "0.838245866283\n",
      "0.838245866283\n",
      "0.838245866283\n",
      "0.838245866283\n",
      "0.838245866283\n",
      "0.838245866283\n",
      "0.838245866283\n",
      "0.838245866283\n",
      "0.838245866283\n",
      "0.838245866283\n",
      "0.838245866283\n",
      "0.838245866283\n",
      "0.838245866283\n",
      "0.838245866283\n"
     ]
    }
   ],
   "source": [
    "res=[]\n",
    "X_train,X_test,Y_train,Y_test=train_test_split(X, y, test_size=0.3,random_state=999)\n",
    "for i in range(1,50,2):\n",
    "    rf = RFC(n_estimators=i, n_jobs=10,max_leaf_nodes=10)\n",
    "    rf.fit(X_train, Y_train)\n",
    "    pred=rf.predict_proba(X_test)[:,1]\n",
    "\n",
    "    print(1.0*(rf.predict(X_test)==np.asarray(Y_test)).sum()/len(Y_test))"
   ]
  },
  {
   "cell_type": "code",
   "execution_count": 30,
   "metadata": {
    "collapsed": false
   },
   "outputs": [
    {
     "name": "stdout",
     "output_type": "stream",
     "text": [
      "we successfully(IS) predict the 85.04 percent of data\n",
      "we successfully(OS) predict the 84.67 percent of data\n",
      "the precision score is  0.211677707595\n",
      "the recall score is  0.25\n"
     ]
    },
    {
     "name": "stderr",
     "output_type": "stream",
     "text": [
      "/Users/Sharon/anaconda/lib/python3.5/site-packages/sklearn/metrics/classification.py:1113: UndefinedMetricWarning: Precision is ill-defined and being set to 0.0 in labels with no predicted samples.\n",
      "  'precision', 'predicted', average, warn_for)\n"
     ]
    }
   ],
   "source": [
    "#for the whole dataset\n",
    "\n",
    "\n",
    "rf = RFC(n_estimators=8, n_jobs=4,max_leaf_nodes=10)\n",
    "rf.fit(X_train, Y_train)\n",
    "correct_IS=1.0*(rf.predict(X_train)==np.asarray(Y_train)).sum()/len(Y_train)\n",
    "correct_OS=1.0*(rf.predict(X_test)==np.asarray(Y_test)).sum()/len(Y_test)\n",
    "\n",
    "print(\"we successfully(IS) predict the {:.4} percent of data\".format((correct_IS)*100))\n",
    "print(\"we successfully(OS) predict the {:.4} percent of data\".format((correct_OS)*100))\n",
    "precision = precision_score(Y_test, rf.predict(X_test), average=\"macro\")\n",
    "recall = recall_score(Y_test, rf.predict(X_test), average=\"macro\")  \n",
    "print(\"the precision score is \", precision)\n",
    "print(\"the recall score is \", recall)"
   ]
  },
  {
   "cell_type": "code",
   "execution_count": 31,
   "metadata": {
    "collapsed": false
   },
   "outputs": [
    {
     "name": "stdout",
     "output_type": "stream",
     "text": [
      "[ 0.08856841  0.02259389  0.05381763  0.10606427  0.03762291  0.01697605\n",
      "  0.04320433  0.01154457  0.02649625  0.01947673  0.02461378  0.0572894\n",
      "  0.15907678  0.11528517  0.01091843  0.0956628   0.11078858]\n"
     ]
    }
   ],
   "source": [
    "print(rf.feature_importances_)"
   ]
  },
  {
   "cell_type": "code",
   "execution_count": 33,
   "metadata": {
    "collapsed": false
   },
   "outputs": [
    {
     "name": "stdout",
     "output_type": "stream",
     "text": [
      "Important Features with Random forest model\n"
     ]
    },
    {
     "data": {
      "text/html": [
       "<div>\n",
       "<table border=\"1\" class=\"dataframe\">\n",
       "  <thead>\n",
       "    <tr style=\"text-align: right;\">\n",
       "      <th></th>\n",
       "      <th>variables</th>\n",
       "      <th>importance</th>\n",
       "    </tr>\n",
       "  </thead>\n",
       "  <tbody>\n",
       "    <tr>\n",
       "      <th>12</th>\n",
       "      <td>MHI</td>\n",
       "      <td>0.159077</td>\n",
       "    </tr>\n",
       "    <tr>\n",
       "      <th>13</th>\n",
       "      <td>Total Population</td>\n",
       "      <td>0.115285</td>\n",
       "    </tr>\n",
       "    <tr>\n",
       "      <th>16</th>\n",
       "      <td>longitude</td>\n",
       "      <td>0.110789</td>\n",
       "    </tr>\n",
       "    <tr>\n",
       "      <th>3</th>\n",
       "      <td>n_tobacco</td>\n",
       "      <td>0.106064</td>\n",
       "    </tr>\n",
       "    <tr>\n",
       "      <th>15</th>\n",
       "      <td>latitude</td>\n",
       "      <td>0.0956628</td>\n",
       "    </tr>\n",
       "  </tbody>\n",
       "</table>\n",
       "</div>"
      ],
      "text/plain": [
       "           variables importance\n",
       "12               MHI   0.159077\n",
       "13  Total Population   0.115285\n",
       "16         longitude   0.110789\n",
       "3          n_tobacco   0.106064\n",
       "15          latitude  0.0956628"
      ]
     },
     "execution_count": 33,
     "metadata": {},
     "output_type": "execute_result"
    }
   ],
   "source": [
    "print(\"Important Features with Random forest model\")\n",
    "\n",
    "Feature_importance=pd.DataFrame([list(tobacco_df.columns),list(rf.feature_importances_)]).T\n",
    "Feature_importance.columns=[\"variables\",\"importance\"]\n",
    "important_features_cont = Feature_importance.sort_values(by=\"importance\",ascending=False).iloc[:5,:]\n",
    "important_features_cont"
   ]
  },
  {
   "cell_type": "code",
   "execution_count": null,
   "metadata": {
    "collapsed": true
   },
   "outputs": [],
   "source": []
  }
 ],
 "metadata": {
  "anaconda-cloud": {},
  "kernelspec": {
   "display_name": "Python [conda root]",
   "language": "python",
   "name": "conda-root-py"
  },
  "language_info": {
   "codemirror_mode": {
    "name": "ipython",
    "version": 3
   },
   "file_extension": ".py",
   "mimetype": "text/x-python",
   "name": "python",
   "nbconvert_exporter": "python",
   "pygments_lexer": "ipython3",
   "version": "3.5.2"
  }
 },
 "nbformat": 4,
 "nbformat_minor": 1
}
