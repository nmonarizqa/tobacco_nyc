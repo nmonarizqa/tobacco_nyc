{
 "cells": [
  {
   "cell_type": "code",
   "execution_count": 1,
   "metadata": {
    "collapsed": false
   },
   "outputs": [
    {
     "name": "stderr",
     "output_type": "stream",
     "text": [
      "C:\\Users\\Nurvirta\\Anaconda2\\lib\\site-packages\\sklearn\\cross_validation.py:44: DeprecationWarning: This module was deprecated in version 0.18 in favor of the model_selection module into which all the refactored classes and functions are moved. Also note that the interface of the new CV iterators are different from that of this module. This module will be removed in 0.20.\n",
      "  \"This module will be removed in 0.20.\", DeprecationWarning)\n"
     ]
    }
   ],
   "source": [
    "import pandas as pd\n",
    "from pgmpy.estimators import HillClimbSearch\n",
    "from pgmpy.estimators import BdeuScore, K2Score, BicScore\n",
    "import numpy as np\n",
    "%matplotlib inline\n",
    "import matplotlib.pyplot as plt\n",
    "import seaborn as sns\n",
    "from pgmpy.models import BayesianModel\n",
    "from pgmpy.estimators import BayesianEstimator\n",
    "from sklearn.cross_validation import train_test_split\n",
    "from pgmpy.models import BayesianModel\n",
    "from pgmpy.estimators import BayesianEstimator\n",
    "from sklearn.metrics import accuracy_score, f1_score, precision_score, recall_score, classification_report, confusion_matrix"
   ]
  },
  {
   "cell_type": "code",
   "execution_count": 2,
   "metadata": {
    "collapsed": false
   },
   "outputs": [
    {
     "data": {
      "text/html": [
       "<div>\n",
       "<table border=\"1\" class=\"dataframe\">\n",
       "  <thead>\n",
       "    <tr style=\"text-align: right;\">\n",
       "      <th></th>\n",
       "      <th>id</th>\n",
       "      <th>BoroCT2010</th>\n",
       "      <th>n_report</th>\n",
       "      <th>DBN</th>\n",
       "      <th>school_distance</th>\n",
       "      <th>n_school</th>\n",
       "      <th>subway_distance</th>\n",
       "      <th>n_tobacco</th>\n",
       "      <th>Enrollment</th>\n",
       "      <th>Student Achievement Rating</th>\n",
       "      <th>...</th>\n",
       "      <th>Percent Hispanic</th>\n",
       "      <th>Percent Asian</th>\n",
       "      <th>% Female</th>\n",
       "      <th>% Poverty</th>\n",
       "      <th>MHI</th>\n",
       "      <th>Total Population</th>\n",
       "      <th>type</th>\n",
       "      <th>latitude</th>\n",
       "      <th>longitude</th>\n",
       "      <th>have_sold</th>\n",
       "    </tr>\n",
       "  </thead>\n",
       "  <tbody>\n",
       "    <tr>\n",
       "      <th>0</th>\n",
       "      <td>19157</td>\n",
       "      <td>5000900</td>\n",
       "      <td>0.0</td>\n",
       "      <td>24Q600</td>\n",
       "      <td>2826.764130</td>\n",
       "      <td>0.0</td>\n",
       "      <td>79.859155</td>\n",
       "      <td>3</td>\n",
       "      <td>1575</td>\n",
       "      <td>Approaching Target</td>\n",
       "      <td>...</td>\n",
       "      <td>0.757</td>\n",
       "      <td>0.112</td>\n",
       "      <td>0.377778</td>\n",
       "      <td>0.811429</td>\n",
       "      <td>56192</td>\n",
       "      <td>2112</td>\n",
       "      <td>GROCERY SUPERMARKET</td>\n",
       "      <td>40.640561</td>\n",
       "      <td>-74.082207</td>\n",
       "      <td>0</td>\n",
       "    </tr>\n",
       "    <tr>\n",
       "      <th>1</th>\n",
       "      <td>18026</td>\n",
       "      <td>5000900</td>\n",
       "      <td>0.0</td>\n",
       "      <td>10X225</td>\n",
       "      <td>1703.127328</td>\n",
       "      <td>1.0</td>\n",
       "      <td>924.970954</td>\n",
       "      <td>3</td>\n",
       "      <td>427</td>\n",
       "      <td>Approaching Target</td>\n",
       "      <td>...</td>\n",
       "      <td>0.700</td>\n",
       "      <td>0.009</td>\n",
       "      <td>0.674603</td>\n",
       "      <td>1.000000</td>\n",
       "      <td>56192</td>\n",
       "      <td>2112</td>\n",
       "      <td>CONVENIENCE STORE</td>\n",
       "      <td>40.641998</td>\n",
       "      <td>-74.078975</td>\n",
       "      <td>0</td>\n",
       "    </tr>\n",
       "    <tr>\n",
       "      <th>2</th>\n",
       "      <td>12113</td>\n",
       "      <td>5000900</td>\n",
       "      <td>0.0</td>\n",
       "      <td>28Q690</td>\n",
       "      <td>2929.402252</td>\n",
       "      <td>0.0</td>\n",
       "      <td>5998.612261</td>\n",
       "      <td>3</td>\n",
       "      <td>589</td>\n",
       "      <td>Approaching Target</td>\n",
       "      <td>...</td>\n",
       "      <td>0.195</td>\n",
       "      <td>0.104</td>\n",
       "      <td>0.463497</td>\n",
       "      <td>0.728353</td>\n",
       "      <td>56192</td>\n",
       "      <td>2112</td>\n",
       "      <td>GROCERY SUPERMARKET</td>\n",
       "      <td>40.640561</td>\n",
       "      <td>-74.082207</td>\n",
       "      <td>0</td>\n",
       "    </tr>\n",
       "    <tr>\n",
       "      <th>3</th>\n",
       "      <td>13601</td>\n",
       "      <td>5007400</td>\n",
       "      <td>0.0</td>\n",
       "      <td>15K448</td>\n",
       "      <td>1740.529846</td>\n",
       "      <td>0.0</td>\n",
       "      <td>2489.816362</td>\n",
       "      <td>2</td>\n",
       "      <td>415</td>\n",
       "      <td>Exceeding Target</td>\n",
       "      <td>...</td>\n",
       "      <td>0.422</td>\n",
       "      <td>0.046</td>\n",
       "      <td>0.508100</td>\n",
       "      <td>0.684831</td>\n",
       "      <td>65559</td>\n",
       "      <td>4693</td>\n",
       "      <td>GROCERY SUPERMARKET</td>\n",
       "      <td>40.591647</td>\n",
       "      <td>-74.067662</td>\n",
       "      <td>0</td>\n",
       "    </tr>\n",
       "    <tr>\n",
       "      <th>4</th>\n",
       "      <td>10482</td>\n",
       "      <td>5007400</td>\n",
       "      <td>0.0</td>\n",
       "      <td>23K493</td>\n",
       "      <td>630.587028</td>\n",
       "      <td>0.0</td>\n",
       "      <td>941.382096</td>\n",
       "      <td>2</td>\n",
       "      <td>307</td>\n",
       "      <td>Meeting Target</td>\n",
       "      <td>...</td>\n",
       "      <td>0.114</td>\n",
       "      <td>0.010</td>\n",
       "      <td>0.387622</td>\n",
       "      <td>0.856678</td>\n",
       "      <td>65559</td>\n",
       "      <td>4693</td>\n",
       "      <td>GROCERY SUPERMARKET</td>\n",
       "      <td>40.595713</td>\n",
       "      <td>-74.063245</td>\n",
       "      <td>0</td>\n",
       "    </tr>\n",
       "  </tbody>\n",
       "</table>\n",
       "<p>5 rows × 22 columns</p>\n",
       "</div>"
      ],
      "text/plain": [
       "      id  BoroCT2010  n_report     DBN  school_distance  n_school  \\\n",
       "0  19157     5000900       0.0  24Q600      2826.764130       0.0   \n",
       "1  18026     5000900       0.0  10X225      1703.127328       1.0   \n",
       "2  12113     5000900       0.0  28Q690      2929.402252       0.0   \n",
       "3  13601     5007400       0.0  15K448      1740.529846       0.0   \n",
       "4  10482     5007400       0.0  23K493       630.587028       0.0   \n",
       "\n",
       "   subway_distance  n_tobacco  Enrollment Student Achievement Rating  \\\n",
       "0        79.859155          3        1575         Approaching Target   \n",
       "1       924.970954          3         427         Approaching Target   \n",
       "2      5998.612261          3         589         Approaching Target   \n",
       "3      2489.816362          2         415           Exceeding Target   \n",
       "4       941.382096          2         307             Meeting Target   \n",
       "\n",
       "     ...      Percent Hispanic  Percent Asian  % Female  % Poverty    MHI  \\\n",
       "0    ...                 0.757          0.112  0.377778   0.811429  56192   \n",
       "1    ...                 0.700          0.009  0.674603   1.000000  56192   \n",
       "2    ...                 0.195          0.104  0.463497   0.728353  56192   \n",
       "3    ...                 0.422          0.046  0.508100   0.684831  65559   \n",
       "4    ...                 0.114          0.010  0.387622   0.856678  65559   \n",
       "\n",
       "   Total Population                 type   latitude  longitude  have_sold  \n",
       "0              2112  GROCERY SUPERMARKET  40.640561 -74.082207          0  \n",
       "1              2112    CONVENIENCE STORE  40.641998 -74.078975          0  \n",
       "2              2112  GROCERY SUPERMARKET  40.640561 -74.082207          0  \n",
       "3              4693  GROCERY SUPERMARKET  40.591647 -74.067662          0  \n",
       "4              4693  GROCERY SUPERMARKET  40.595713 -74.063245          0  \n",
       "\n",
       "[5 rows x 22 columns]"
      ]
     },
     "execution_count": 2,
     "metadata": {},
     "output_type": "execute_result"
    }
   ],
   "source": [
    "#df = pd.read_csv('New_Classes.csv', index_col=0)\n",
    "df = pd.read_csv('merged_data_1.1.csv', index_col=0)\n",
    "df.head()"
   ]
  },
  {
   "cell_type": "code",
   "execution_count": 3,
   "metadata": {
    "collapsed": false
   },
   "outputs": [
    {
     "data": {
      "text/plain": [
       "Index([u'id', u'BoroCT2010', u'n_report', u'DBN', u'school_distance',\n",
       "       u'n_school', u'subway_distance', u'n_tobacco', u'Enrollment',\n",
       "       u'Student Achievement Rating', u'Percent White', u'Percent Black',\n",
       "       u'Percent Hispanic', u'Percent Asian', u'% Female', u'% Poverty',\n",
       "       u'MHI', u'Total Population', u'type', u'latitude', u'longitude',\n",
       "       u'have_sold'],\n",
       "      dtype='object')"
      ]
     },
     "execution_count": 3,
     "metadata": {},
     "output_type": "execute_result"
    }
   ],
   "source": [
    "df.columns"
   ]
  },
  {
   "cell_type": "code",
   "execution_count": 39,
   "metadata": {
    "collapsed": false
   },
   "outputs": [],
   "source": [
    "# df['class'] = df['n_report'].apply(lambda x: 0 if x == 0 \n",
    "#                                     else 1 if x == 1 \n",
    "#                                     else 2 if x == 2 \n",
    "#                                     else 3 if x >2 and x<=6 else 4)\n",
    "\n",
    "attributes = ['have_sold', 'MHI','Total Population', 'n_tobacco', 'school_distance', 'subway_distance', 'Enrollment', \n",
    "              '% Female', 'n_school', '% Poverty',\n",
    "             'Percent White', 'Percent Black', 'Percent Hispanic', 'Percent Asian'\n",
    "             ]\n",
    "# attributes = ['have_sold', 'MHI','Total Population', 'n_tobacco', 'school_distance', 'subway_distance', \n",
    "#               'n_school', 'Enrollment', 'Percent White', 'Percent White', 'Percent Black', 'Percent Hispanic',\n",
    "#               'Percent Asian', '% Female', '% Poverty' ]\n",
    "\n",
    "X = df[attributes].copy()\n",
    "\n",
    "# comment below\n",
    "X.rename(columns={'have_sold':'class'}, inplace=True)\n",
    "\n",
    "for at in attributes[1:]:\n",
    "    try:\n",
    "        X[at] = pd.qcut(X[at],5,labels=False)\n",
    "    except:\n",
    "        continue\n",
    "\n",
    "train,test=train_test_split(X,random_state=2017,test_size=0.4)"
   ]
  },
  {
   "cell_type": "code",
   "execution_count": 40,
   "metadata": {
    "collapsed": false
   },
   "outputs": [
    {
     "data": {
      "text/plain": [
       "0    5352\n",
       "1     969\n",
       "Name: class, dtype: int64"
      ]
     },
     "execution_count": 40,
     "metadata": {},
     "output_type": "execute_result"
    }
   ],
   "source": [
    "pd.value_counts(train['class'])"
   ]
  },
  {
   "cell_type": "code",
   "execution_count": 41,
   "metadata": {
    "collapsed": false
   },
   "outputs": [
    {
     "data": {
      "text/plain": [
       "0    3582\n",
       "1     633\n",
       "Name: class, dtype: int64"
      ]
     },
     "execution_count": 41,
     "metadata": {},
     "output_type": "execute_result"
    }
   ],
   "source": [
    "pd.value_counts(test['class'])"
   ]
  },
  {
   "cell_type": "code",
   "execution_count": 42,
   "metadata": {
    "collapsed": false
   },
   "outputs": [],
   "source": [
    "hc = HillClimbSearch(X, scoring_method=BicScore(X))\n",
    "best_model = hc.estimate()"
   ]
  },
  {
   "cell_type": "code",
   "execution_count": 43,
   "metadata": {
    "collapsed": false
   },
   "outputs": [
    {
     "name": "stdout",
     "output_type": "stream",
     "text": [
      "The edges are\n",
      "('Total Population', 'MHI')\n",
      "('Total Population', 'n_tobacco')\n",
      "('MHI', 'n_school')\n",
      "('MHI', 'class')\n",
      "('Percent White', 'Percent Hispanic')\n",
      "('Percent White', 'Percent Asian')\n",
      "('Percent White', '% Poverty')\n",
      "('Percent White', 'Enrollment')\n",
      "('Percent White', '% Female')\n",
      "('Enrollment', 'Percent Asian')\n",
      "('Enrollment', '% Poverty')\n",
      "('Enrollment', 'subway_distance')\n",
      "('Enrollment', 'Percent Black')\n",
      "('Percent Asian', 'Percent Black')\n",
      "('Percent Asian', 'school_distance')\n",
      "('Percent Hispanic', 'Percent Asian')\n",
      "('Percent Hispanic', 'Percent Black')\n",
      "('% Female', 'Percent Hispanic')\n",
      "('% Female', 'Enrollment')\n",
      "('% Female', '% Poverty')\n",
      "('% Female', 'subway_distance')\n",
      "('n_tobacco', 'MHI')\n",
      "('% Poverty', 'Percent Hispanic')\n",
      "('% Poverty', 'subway_distance')\n",
      "('subway_distance', 'school_distance')\n"
     ]
    }
   ],
   "source": [
    "print \"The edges are\"\n",
    "for edge in best_model.edges():\n",
    "    print edge"
   ]
  },
  {
   "cell_type": "code",
   "execution_count": 59,
   "metadata": {
    "collapsed": true
   },
   "outputs": [],
   "source": [
    "X1 = X[['Total Population','MHI','n_tobacco','n_school','class']]\n",
    "hc1 = HillClimbSearch(X1, scoring_method=BicScore(X1))\n",
    "best_model1 = hc1.estimate()"
   ]
  },
  {
   "cell_type": "code",
   "execution_count": 61,
   "metadata": {
    "collapsed": false
   },
   "outputs": [
    {
     "name": "stdout",
     "output_type": "stream",
     "text": [
      "The edges are\n",
      "('Total Population', 'MHI')\n",
      "('MHI', 'n_school')\n",
      "('MHI', 'class')\n",
      "('n_tobacco', 'Total Population')\n",
      "('n_tobacco', 'MHI')\n"
     ]
    }
   ],
   "source": [
    "model1 = BayesianModel(best_model1.edges())\n",
    "print \"The edges are\"\n",
    "for edge in best_model1.edges():\n",
    "    print edge\n",
    "model1.fit(X1, estimator=BayesianEstimator, prior_type='BDeu', equivalent_sample_size=100)"
   ]
  },
  {
   "cell_type": "code",
   "execution_count": 65,
   "metadata": {
    "collapsed": false
   },
   "outputs": [],
   "source": [
    "Xtest = test.loc[:,['Total Population','MHI','n_tobacco','n_school']]\n",
    "Xtest = Xtest.dropna()\n",
    "for col in Xtest.columns:\n",
    "    Xtest[col] = Xtest[col].apply(int)"
   ]
  },
  {
   "cell_type": "code",
   "execution_count": 66,
   "metadata": {
    "collapsed": false
   },
   "outputs": [],
   "source": [
    "y_prob = model1.predict_probability(Xtest)"
   ]
  },
  {
   "cell_type": "code",
   "execution_count": 67,
   "metadata": {
    "collapsed": false
   },
   "outputs": [],
   "source": [
    "y_prob['class'] = y_prob.apply(lambda x: 0 if x['class_0'] > x['class_1'] else 1, axis=1)"
   ]
  },
  {
   "cell_type": "code",
   "execution_count": 68,
   "metadata": {
    "collapsed": false
   },
   "outputs": [
    {
     "name": "stdout",
     "output_type": "stream",
     "text": [
      "OS accuracy: 0.849822064057\n",
      "OS precision: 0.424911032028\n",
      "OS recall: 0.5\n",
      "OS f1-score: 0.459407464409\n"
     ]
    },
    {
     "name": "stderr",
     "output_type": "stream",
     "text": [
      "C:\\Users\\Nurvirta\\Anaconda2\\lib\\site-packages\\sklearn\\metrics\\classification.py:1113: UndefinedMetricWarning: F-score is ill-defined and being set to 0.0 in labels with no predicted samples.\n",
      "  'precision', 'predicted', average, warn_for)\n",
      "C:\\Users\\Nurvirta\\Anaconda2\\lib\\site-packages\\sklearn\\metrics\\classification.py:1113: UndefinedMetricWarning: Precision is ill-defined and being set to 0.0 in labels with no predicted samples.\n",
      "  'precision', 'predicted', average, warn_for)\n"
     ]
    }
   ],
   "source": [
    "accuracy = sum(y_prob['class']==test['class'])*1./len(y_prob)\n",
    "fscore = f1_score(test['class'], y_prob['class'], average=\"macro\")\n",
    "precision = precision_score(test['class'], y_prob['class'], average=\"macro\")\n",
    "recall = recall_score(test['class'], y_prob['class'], average=\"macro\")   \n",
    "\n",
    "print \"OS accuracy: \" + str(accuracy)\n",
    "print \"OS precision: \" + str(precision)\n",
    "print \"OS recall: \" + str(recall)\n",
    "print \"OS f1-score: \" + str(fscore)\n"
   ]
  },
  {
   "cell_type": "code",
   "execution_count": null,
   "metadata": {
    "collapsed": false
   },
   "outputs": [],
   "source": [
    "y_prob.to_csv('y_prob_binary.csv')"
   ]
  },
  {
   "cell_type": "markdown",
   "metadata": {},
   "source": [
    "# Anomaly"
   ]
  },
  {
   "cell_type": "code",
   "execution_count": null,
   "metadata": {
    "collapsed": true
   },
   "outputs": [],
   "source": [
    "# df['class'] = df['n_report'].apply(lambda x: 0 if x == 0 \n",
    "#                                     else 1 if x == 1 \n",
    "#                                     else 2 if x == 2 \n",
    "#                                     else 3 if x >2 and x<=6 else 4)\n",
    "df = pd.read_csv('New_Classes.csv', index_col=0)\n",
    "attributes = ['class', 'MHI','Total Population', 'n_tobacco', 'school_distance', 'subway_distance', 'Enrollment', \n",
    "              '% Female'\n",
    "             ]\n",
    "# attributes = ['have_sold', 'MHI','Total Population', 'n_tobacco', 'school_distance', 'subway_distance', 'Enrollment', \n",
    "#               '% Female'\n",
    "#              ]\n",
    "\n",
    "X = df[attributes].copy()\n",
    "\n",
    "# comment below\n",
    "#X.rename(columns={'have_sold':'class'}, inplace=True)\n",
    "\n",
    "for at in attributes[1:]:\n",
    "    X[at] = pd.qcut(X[at],5,labels=False)\n",
    "\n",
    "train,test=train_test_split(X,random_state=2017,test_size=0.4)"
   ]
  },
  {
   "cell_type": "code",
   "execution_count": null,
   "metadata": {
    "collapsed": false
   },
   "outputs": [],
   "source": [
    "pd.value_counts(train['class'])"
   ]
  },
  {
   "cell_type": "code",
   "execution_count": null,
   "metadata": {
    "collapsed": false
   },
   "outputs": [],
   "source": [
    "hc = HillClimbSearch(X, scoring_method=BicScore(X))\n",
    "best_model = hc.estimate()"
   ]
  },
  {
   "cell_type": "code",
   "execution_count": null,
   "metadata": {
    "collapsed": false
   },
   "outputs": [],
   "source": [
    "print \"The edges are\"\n",
    "for edge in best_model.edges():\n",
    "    print edge"
   ]
  },
  {
   "cell_type": "code",
   "execution_count": null,
   "metadata": {
    "collapsed": true
   },
   "outputs": [],
   "source": [
    "model = BayesianModel(best_model.edges())\n",
    "\n",
    "model.fit(X, estimator=BayesianEstimator, prior_type='BDeu', equivalent_sample_size=100)"
   ]
  },
  {
   "cell_type": "code",
   "execution_count": null,
   "metadata": {
    "collapsed": false
   },
   "outputs": [],
   "source": [
    "Xtest = test.iloc[:,1:]\n",
    "y_prob = model.predict_probability(Xtest)"
   ]
  },
  {
   "cell_type": "code",
   "execution_count": null,
   "metadata": {
    "collapsed": false
   },
   "outputs": [],
   "source": [
    "y_prob.to_csv('y_prob_multiclass.csv')"
   ]
  },
  {
   "cell_type": "code",
   "execution_count": null,
   "metadata": {
    "collapsed": true
   },
   "outputs": [],
   "source": []
  }
 ],
 "metadata": {
  "anaconda-cloud": {},
  "kernelspec": {
   "display_name": "Python [conda root]",
   "language": "python",
   "name": "conda-root-py"
  },
  "language_info": {
   "codemirror_mode": {
    "name": "ipython",
    "version": 2
   },
   "file_extension": ".py",
   "mimetype": "text/x-python",
   "name": "python",
   "nbconvert_exporter": "python",
   "pygments_lexer": "ipython2",
   "version": "2.7.12"
  }
 },
 "nbformat": 4,
 "nbformat_minor": 1
}
